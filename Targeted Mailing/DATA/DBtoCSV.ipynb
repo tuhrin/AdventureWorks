{
 "cells": [
  {
   "cell_type": "code",
   "execution_count": 4,
   "metadata": {
    "collapsed": true
   },
   "outputs": [],
   "source": [
    "import pyodbc\n",
    "import pandas as pd"
   ]
  },
  {
   "cell_type": "code",
   "execution_count": 2,
   "metadata": {
    "collapsed": true
   },
   "outputs": [],
   "source": [
    "server='tuhrin\\SQLEXPRESS'\n",
    "db='AdventureWorksDW2012'\n",
    "\n",
    "conn=pyodbc.connect('DRIVER={SQL Server};SERVER='+server+';DATABASE='+db+';Trusted_Connection=yes')\n",
    "\n",
    "sql=\"\"\"\n",
    "select vtm.MaritalStatus, vtm.Gender, vtm.YearlyIncome, vtm.TotalChildren, year(vtm.DateFirstPurchase) as FirstPurchaseYear,\n",
    "\t   vtm.NumberChildrenAtHome, vtm.EnglishEducation as Education, vtm.EnglishOccupation as Occupation, vtm.HouseOwnerFlag, \n",
    "\t   vtm.NumberCarsOwned, vtm.CommuteDistance, vtm.Age, dg.CountryRegionCode as Country, vtm.BikeBuyer as Buyer\n",
    "from dbo.vTargetMail as vtm\n",
    "left join dbo.DimGeography as dg on vtm.GeographyKey=dg.GeographyKey\n",
    "\"\"\""
   ]
  },
  {
   "cell_type": "code",
   "execution_count": 5,
   "metadata": {
    "collapsed": false
   },
   "outputs": [],
   "source": [
    "data=pd.read_sql(sql,conn)"
   ]
  },
  {
   "cell_type": "code",
   "execution_count": 7,
   "metadata": {
    "collapsed": false
   },
   "outputs": [],
   "source": [
    "data.to_csv('TargetedMailing.csv', encoding='utf-8', index=False)"
   ]
  }
 ],
 "metadata": {
  "kernelspec": {
   "display_name": "Python 3",
   "language": "python",
   "name": "python3"
  },
  "language_info": {
   "codemirror_mode": {
    "name": "ipython",
    "version": 3
   },
   "file_extension": ".py",
   "mimetype": "text/x-python",
   "name": "python",
   "nbconvert_exporter": "python",
   "pygments_lexer": "ipython3",
   "version": "3.6.0"
  }
 },
 "nbformat": 4,
 "nbformat_minor": 2
}
