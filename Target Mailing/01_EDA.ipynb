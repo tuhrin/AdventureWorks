{
 "cells": [
  {
   "cell_type": "markdown",
   "metadata": {
    "collapsed": true,
    "deletable": true,
    "editable": true
   },
   "source": [
    "# Exploratory Data Analysis"
   ]
  },
  {
   "cell_type": "code",
   "execution_count": 1,
   "metadata": {
    "collapsed": true,
    "deletable": true,
    "editable": true
   },
   "outputs": [],
   "source": [
    "import pandas as pd\n",
    "import numpy as np\n",
    "import seaborn as sns\n",
    "import matplotlib.pyplot as plt\n",
    "%matplotlib inline"
   ]
  },
  {
   "cell_type": "code",
   "execution_count": 2,
   "metadata": {
    "collapsed": false,
    "deletable": true,
    "editable": true
   },
   "outputs": [
    {
     "data": {
      "text/html": [
       "<div>\n",
       "<table border=\"1\" class=\"dataframe\">\n",
       "  <thead>\n",
       "    <tr style=\"text-align: right;\">\n",
       "      <th></th>\n",
       "      <th>MaritalStatus</th>\n",
       "      <th>Gender</th>\n",
       "      <th>YearlyIncome</th>\n",
       "      <th>TotalChildren</th>\n",
       "      <th>FirstPurchaseYear</th>\n",
       "      <th>NumberChildrenAtHome</th>\n",
       "      <th>Education</th>\n",
       "      <th>Occupation</th>\n",
       "      <th>HouseOwnerFlag</th>\n",
       "      <th>NumberCarsOwned</th>\n",
       "      <th>CommuteDistance</th>\n",
       "      <th>Age</th>\n",
       "      <th>Country</th>\n",
       "      <th>Buyer</th>\n",
       "    </tr>\n",
       "  </thead>\n",
       "  <tbody>\n",
       "    <tr>\n",
       "      <th>0</th>\n",
       "      <td>M</td>\n",
       "      <td>M</td>\n",
       "      <td>90000.0</td>\n",
       "      <td>2</td>\n",
       "      <td>2011</td>\n",
       "      <td>0</td>\n",
       "      <td>Bachelors</td>\n",
       "      <td>Professional</td>\n",
       "      <td>1</td>\n",
       "      <td>0</td>\n",
       "      <td>1-2 Miles</td>\n",
       "      <td>46</td>\n",
       "      <td>AU</td>\n",
       "      <td>1</td>\n",
       "    </tr>\n",
       "    <tr>\n",
       "      <th>1</th>\n",
       "      <td>S</td>\n",
       "      <td>M</td>\n",
       "      <td>60000.0</td>\n",
       "      <td>3</td>\n",
       "      <td>2011</td>\n",
       "      <td>3</td>\n",
       "      <td>Bachelors</td>\n",
       "      <td>Professional</td>\n",
       "      <td>0</td>\n",
       "      <td>1</td>\n",
       "      <td>0-1 Miles</td>\n",
       "      <td>42</td>\n",
       "      <td>AU</td>\n",
       "      <td>1</td>\n",
       "    </tr>\n",
       "    <tr>\n",
       "      <th>2</th>\n",
       "      <td>M</td>\n",
       "      <td>M</td>\n",
       "      <td>60000.0</td>\n",
       "      <td>3</td>\n",
       "      <td>2011</td>\n",
       "      <td>3</td>\n",
       "      <td>Bachelors</td>\n",
       "      <td>Professional</td>\n",
       "      <td>1</td>\n",
       "      <td>1</td>\n",
       "      <td>2-5 Miles</td>\n",
       "      <td>47</td>\n",
       "      <td>AU</td>\n",
       "      <td>1</td>\n",
       "    </tr>\n",
       "    <tr>\n",
       "      <th>3</th>\n",
       "      <td>S</td>\n",
       "      <td>F</td>\n",
       "      <td>70000.0</td>\n",
       "      <td>0</td>\n",
       "      <td>2010</td>\n",
       "      <td>0</td>\n",
       "      <td>Bachelors</td>\n",
       "      <td>Professional</td>\n",
       "      <td>0</td>\n",
       "      <td>1</td>\n",
       "      <td>5-10 Miles</td>\n",
       "      <td>45</td>\n",
       "      <td>AU</td>\n",
       "      <td>1</td>\n",
       "    </tr>\n",
       "    <tr>\n",
       "      <th>4</th>\n",
       "      <td>S</td>\n",
       "      <td>F</td>\n",
       "      <td>80000.0</td>\n",
       "      <td>5</td>\n",
       "      <td>2011</td>\n",
       "      <td>5</td>\n",
       "      <td>Bachelors</td>\n",
       "      <td>Professional</td>\n",
       "      <td>1</td>\n",
       "      <td>4</td>\n",
       "      <td>1-2 Miles</td>\n",
       "      <td>39</td>\n",
       "      <td>AU</td>\n",
       "      <td>1</td>\n",
       "    </tr>\n",
       "  </tbody>\n",
       "</table>\n",
       "</div>"
      ],
      "text/plain": [
       "  MaritalStatus Gender  YearlyIncome  TotalChildren  FirstPurchaseYear  \\\n",
       "0             M      M       90000.0              2               2011   \n",
       "1             S      M       60000.0              3               2011   \n",
       "2             M      M       60000.0              3               2011   \n",
       "3             S      F       70000.0              0               2010   \n",
       "4             S      F       80000.0              5               2011   \n",
       "\n",
       "   NumberChildrenAtHome  Education    Occupation  HouseOwnerFlag  \\\n",
       "0                     0  Bachelors  Professional               1   \n",
       "1                     3  Bachelors  Professional               0   \n",
       "2                     3  Bachelors  Professional               1   \n",
       "3                     0  Bachelors  Professional               0   \n",
       "4                     5  Bachelors  Professional               1   \n",
       "\n",
       "   NumberCarsOwned CommuteDistance  Age Country  Buyer  \n",
       "0                0       1-2 Miles   46      AU      1  \n",
       "1                1       0-1 Miles   42      AU      1  \n",
       "2                1       2-5 Miles   47      AU      1  \n",
       "3                1      5-10 Miles   45      AU      1  \n",
       "4                4       1-2 Miles   39      AU      1  "
      ]
     },
     "execution_count": 2,
     "metadata": {},
     "output_type": "execute_result"
    }
   ],
   "source": [
    "# Import data to DataFrame\n",
    "data=pd.read_csv('DATA/TargetedMailing.csv')\n",
    "data.head()"
   ]
  },
  {
   "cell_type": "code",
   "execution_count": 3,
   "metadata": {
    "collapsed": false,
    "deletable": true,
    "editable": true
   },
   "outputs": [
    {
     "data": {
      "text/plain": [
       "MaritalStatus           0\n",
       "Gender                  0\n",
       "YearlyIncome            0\n",
       "TotalChildren           0\n",
       "FirstPurchaseYear       0\n",
       "NumberChildrenAtHome    0\n",
       "Education               0\n",
       "Occupation              0\n",
       "HouseOwnerFlag          0\n",
       "NumberCarsOwned         0\n",
       "CommuteDistance         0\n",
       "Age                     0\n",
       "Country                 0\n",
       "Buyer                   0\n",
       "dtype: int64"
      ]
     },
     "execution_count": 3,
     "metadata": {},
     "output_type": "execute_result"
    }
   ],
   "source": [
    "# Missing values\n",
    "data.isnull().sum()"
   ]
  },
  {
   "cell_type": "code",
   "execution_count": 4,
   "metadata": {
    "collapsed": false,
    "deletable": true,
    "editable": true
   },
   "outputs": [
    {
     "name": "stdout",
     "output_type": "stream",
     "text": [
      "MaritalStatus            object\n",
      "Gender                   object\n",
      "YearlyIncome            float64\n",
      "TotalChildren             int64\n",
      "FirstPurchaseYear         int64\n",
      "NumberChildrenAtHome      int64\n",
      "Education                object\n",
      "Occupation               object\n",
      "HouseOwnerFlag            int64\n",
      "NumberCarsOwned           int64\n",
      "CommuteDistance          object\n",
      "Age                       int64\n",
      "Country                  object\n",
      "Buyer                     int64\n",
      "dtype: object\n"
     ]
    }
   ],
   "source": [
    "# Data types\n",
    "print(data.dtypes)"
   ]
  },
  {
   "cell_type": "code",
   "execution_count": 5,
   "metadata": {
    "collapsed": false,
    "deletable": true,
    "editable": true
   },
   "outputs": [
    {
     "name": "stdout",
     "output_type": "stream",
     "text": [
      "Categorical variables: ['MaritalStatus', 'Gender', 'Education', 'Occupation', 'CommuteDistance', 'Country', 'Buyer']\n",
      "Numerical variables: ['YearlyIncome', 'TotalChildren', 'FirstPurchaseYear', 'NumberChildrenAtHome', 'HouseOwnerFlag', 'NumberCarsOwned', 'Age']\n"
     ]
    }
   ],
   "source": [
    "# Categorical and Numerical variables\n",
    "data.Buyer=data.Buyer.astype(object) # set Buyer as object\n",
    "\n",
    "cat_cols=data.select_dtypes(include=['object']).columns.tolist()\n",
    "num_cols=data.select_dtypes(exclude=['object']).columns.tolist()\n",
    "\n",
    "print('Categorical variables:',cat_cols)\n",
    "print('Numerical variables:',num_cols)"
   ]
  },
  {
   "cell_type": "code",
   "execution_count": 6,
   "metadata": {
    "collapsed": false,
    "deletable": true,
    "editable": true
   },
   "outputs": [
    {
     "name": "stdout",
     "output_type": "stream",
     "text": [
      "Unique values in categoriacal variables:\n",
      "\n",
      "MaritalStatus : 2\n",
      "Gender : 2\n",
      "Education : 5\n",
      "Occupation : 5\n",
      "CommuteDistance : 5\n",
      "Country : 6\n",
      "Buyer : 2\n"
     ]
    }
   ],
   "source": [
    "# Number of unique values in categoriacal variable\n",
    "print('Unique values in categoriacal variables:\\n')\n",
    "for cat in cat_cols:\n",
    "    print(cat,':', data[cat].nunique())"
   ]
  },
  {
   "cell_type": "code",
   "execution_count": 7,
   "metadata": {
    "collapsed": false,
    "deletable": true,
    "editable": true
   },
   "outputs": [
    {
     "data": {
      "text/html": [
       "<div>\n",
       "<table border=\"1\" class=\"dataframe\">\n",
       "  <thead>\n",
       "    <tr style=\"text-align: right;\">\n",
       "      <th></th>\n",
       "      <th>YearlyIncome</th>\n",
       "      <th>TotalChildren</th>\n",
       "      <th>FirstPurchaseYear</th>\n",
       "      <th>NumberChildrenAtHome</th>\n",
       "      <th>HouseOwnerFlag</th>\n",
       "      <th>NumberCarsOwned</th>\n",
       "      <th>Age</th>\n",
       "    </tr>\n",
       "  </thead>\n",
       "  <tbody>\n",
       "    <tr>\n",
       "      <th>count</th>\n",
       "      <td>18484.000000</td>\n",
       "      <td>18484.000000</td>\n",
       "      <td>18484.000000</td>\n",
       "      <td>18484.000000</td>\n",
       "      <td>18484.000000</td>\n",
       "      <td>18484.000000</td>\n",
       "      <td>18484.000000</td>\n",
       "    </tr>\n",
       "    <tr>\n",
       "      <th>mean</th>\n",
       "      <td>57305.777970</td>\n",
       "      <td>1.844352</td>\n",
       "      <td>2012.610853</td>\n",
       "      <td>1.004058</td>\n",
       "      <td>0.676369</td>\n",
       "      <td>1.502705</td>\n",
       "      <td>48.784300</td>\n",
       "    </tr>\n",
       "    <tr>\n",
       "      <th>std</th>\n",
       "      <td>32285.841703</td>\n",
       "      <td>1.612408</td>\n",
       "      <td>0.732673</td>\n",
       "      <td>1.522660</td>\n",
       "      <td>0.467874</td>\n",
       "      <td>1.138394</td>\n",
       "      <td>11.519584</td>\n",
       "    </tr>\n",
       "    <tr>\n",
       "      <th>min</th>\n",
       "      <td>10000.000000</td>\n",
       "      <td>0.000000</td>\n",
       "      <td>2010.000000</td>\n",
       "      <td>0.000000</td>\n",
       "      <td>0.000000</td>\n",
       "      <td>0.000000</td>\n",
       "      <td>32.000000</td>\n",
       "    </tr>\n",
       "    <tr>\n",
       "      <th>25%</th>\n",
       "      <td>30000.000000</td>\n",
       "      <td>0.000000</td>\n",
       "      <td>2012.000000</td>\n",
       "      <td>0.000000</td>\n",
       "      <td>0.000000</td>\n",
       "      <td>1.000000</td>\n",
       "      <td>39.000000</td>\n",
       "    </tr>\n",
       "    <tr>\n",
       "      <th>50%</th>\n",
       "      <td>60000.000000</td>\n",
       "      <td>2.000000</td>\n",
       "      <td>2013.000000</td>\n",
       "      <td>0.000000</td>\n",
       "      <td>1.000000</td>\n",
       "      <td>2.000000</td>\n",
       "      <td>47.000000</td>\n",
       "    </tr>\n",
       "    <tr>\n",
       "      <th>75%</th>\n",
       "      <td>70000.000000</td>\n",
       "      <td>3.000000</td>\n",
       "      <td>2013.000000</td>\n",
       "      <td>2.000000</td>\n",
       "      <td>1.000000</td>\n",
       "      <td>2.000000</td>\n",
       "      <td>56.000000</td>\n",
       "    </tr>\n",
       "    <tr>\n",
       "      <th>max</th>\n",
       "      <td>170000.000000</td>\n",
       "      <td>5.000000</td>\n",
       "      <td>2014.000000</td>\n",
       "      <td>5.000000</td>\n",
       "      <td>1.000000</td>\n",
       "      <td>4.000000</td>\n",
       "      <td>102.000000</td>\n",
       "    </tr>\n",
       "  </tbody>\n",
       "</table>\n",
       "</div>"
      ],
      "text/plain": [
       "        YearlyIncome  TotalChildren  FirstPurchaseYear  NumberChildrenAtHome  \\\n",
       "count   18484.000000   18484.000000       18484.000000          18484.000000   \n",
       "mean    57305.777970       1.844352        2012.610853              1.004058   \n",
       "std     32285.841703       1.612408           0.732673              1.522660   \n",
       "min     10000.000000       0.000000        2010.000000              0.000000   \n",
       "25%     30000.000000       0.000000        2012.000000              0.000000   \n",
       "50%     60000.000000       2.000000        2013.000000              0.000000   \n",
       "75%     70000.000000       3.000000        2013.000000              2.000000   \n",
       "max    170000.000000       5.000000        2014.000000              5.000000   \n",
       "\n",
       "       HouseOwnerFlag  NumberCarsOwned           Age  \n",
       "count    18484.000000     18484.000000  18484.000000  \n",
       "mean         0.676369         1.502705     48.784300  \n",
       "std          0.467874         1.138394     11.519584  \n",
       "min          0.000000         0.000000     32.000000  \n",
       "25%          0.000000         1.000000     39.000000  \n",
       "50%          1.000000         2.000000     47.000000  \n",
       "75%          1.000000         2.000000     56.000000  \n",
       "max          1.000000         4.000000    102.000000  "
      ]
     },
     "execution_count": 7,
     "metadata": {},
     "output_type": "execute_result"
    }
   ],
   "source": [
    "# Overall view\n",
    "data.describe()"
   ]
  },
  {
   "cell_type": "code",
   "execution_count": 8,
   "metadata": {
    "collapsed": false,
    "deletable": true,
    "editable": true
   },
   "outputs": [
    {
     "data": {
      "image/png": "[encoded data removed]",
      "text/plain": [
       "<matplotlib.figure.Figure at 0xbf62ab4fd0>"
      ]
     },
     "metadata": {},
     "output_type": "display_data"
    }
   ],
   "source": [
    "# plot Buyer counts \n",
    "sns.countplot(x='Buyer',data=data, palette='hls');"
   ]
  },
  {
   "cell_type": "code",
   "execution_count": 9,
   "metadata": {
    "collapsed": false,
    "deletable": true,
    "editable": true
   },
   "outputs": [
    {
     "data": {
      "text/plain": [
       "<matplotlib.axes._subplots.AxesSubplot at 0xbf7081af60>"
      ]
     },
     "execution_count": 9,
     "metadata": {},
     "output_type": "execute_result"
    },
    {
     "data": {
      "image/png": "[encoded data removed]",
      "text/plain": [
       "<matplotlib.figure.Figure at 0xbf70739ba8>"
      ]
     },
     "metadata": {},
     "output_type": "display_data"
    }
   ],
   "source": [
    "# plot Age: KDE and Box\n",
    "plt.figure(figsize=(10,8))\n",
    "\n",
    "plt.subplot(211)\n",
    "plt.xlim(data['Age'].min(), data['Age'].max()*1.1)\n",
    "data['Age'].plot(kind='kde')\n",
    " \n",
    "plt.subplot(212)\n",
    "plt.xlim(data['Age'].min(), data['Age'].max()*1.1)\n",
    "sns.boxplot(x=data['Age'])"
   ]
  },
  {
   "cell_type": "code",
   "execution_count": 10,
   "metadata": {
    "collapsed": false,
    "deletable": true,
    "editable": true
   },
   "outputs": [
    {
     "name": "stdout",
     "output_type": "stream",
     "text": [
      "Removed 9 rows with ages: [102, 101, 100, 99, 101, 99, 100, 99, 97]\n"
     ]
    }
   ],
   "source": [
    "# remove Age outliers with log transformation / 1.5*IQR rule\n",
    "q75, q25 = np.percentile(np.log(data['Age']), [75 ,25]) # get Q1 and Q3\n",
    "iqr = q75 - q25 # interquartile range\n",
    " \n",
    "max = q75 + (iqr*1.5)\n",
    "\n",
    "RTM=data.Age[np.log(data['Age'])>max].index # rows to remove\n",
    "\n",
    "print('Removed',len(RTM),'rows with ages:',data.Age[RTM].values.tolist())\n",
    "\n",
    "data=data.drop(RTM) # remove data"
   ]
  },
  {
   "cell_type": "code",
   "execution_count": 11,
   "metadata": {
    "collapsed": false,
    "deletable": true,
    "editable": true
   },
   "outputs": [
    {
     "data": {
      "text/html": [
       "<div>\n",
       "<table border=\"1\" class=\"dataframe\">\n",
       "  <thead>\n",
       "    <tr style=\"text-align: right;\">\n",
       "      <th></th>\n",
       "      <th>YearlyIncome</th>\n",
       "      <th>TotalChildren</th>\n",
       "      <th>FirstPurchaseYear</th>\n",
       "      <th>NumberChildrenAtHome</th>\n",
       "      <th>HouseOwnerFlag</th>\n",
       "      <th>NumberCarsOwned</th>\n",
       "      <th>Age</th>\n",
       "    </tr>\n",
       "    <tr>\n",
       "      <th>Buyer</th>\n",
       "      <th></th>\n",
       "      <th></th>\n",
       "      <th></th>\n",
       "      <th></th>\n",
       "      <th></th>\n",
       "      <th></th>\n",
       "      <th></th>\n",
       "    </tr>\n",
       "  </thead>\n",
       "  <tbody>\n",
       "    <tr>\n",
       "      <th>0</th>\n",
       "      <td>55954.190303</td>\n",
       "      <td>2.046238</td>\n",
       "      <td>2013.054158</td>\n",
       "      <td>1.135610</td>\n",
       "      <td>0.673231</td>\n",
       "      <td>1.706197</td>\n",
       "      <td>49.942310</td>\n",
       "    </tr>\n",
       "    <tr>\n",
       "      <th>1</th>\n",
       "      <td>58728.646518</td>\n",
       "      <td>1.636881</td>\n",
       "      <td>2012.156921</td>\n",
       "      <td>0.870456</td>\n",
       "      <td>0.679917</td>\n",
       "      <td>1.294350</td>\n",
       "      <td>47.549277</td>\n",
       "    </tr>\n",
       "  </tbody>\n",
       "</table>\n",
       "</div>"
      ],
      "text/plain": [
       "       YearlyIncome  TotalChildren  FirstPurchaseYear  NumberChildrenAtHome  \\\n",
       "Buyer                                                                         \n",
       "0      55954.190303       2.046238        2013.054158              1.135610   \n",
       "1      58728.646518       1.636881        2012.156921              0.870456   \n",
       "\n",
       "       HouseOwnerFlag  NumberCarsOwned        Age  \n",
       "Buyer                                              \n",
       "0            0.673231         1.706197  49.942310  \n",
       "1            0.679917         1.294350  47.549277  "
      ]
     },
     "execution_count": 11,
     "metadata": {},
     "output_type": "execute_result"
    }
   ],
   "source": [
    "# numerical variables by output Buyer\n",
    "data.groupby('Buyer').mean()"
   ]
  },
  {
   "cell_type": "code",
   "execution_count": 12,
   "metadata": {
    "collapsed": false,
    "deletable": true,
    "editable": true
   },
   "outputs": [
    {
     "data": {
      "text/plain": [
       "<matplotlib.axes._subplots.AxesSubplot at 0xbf7079a4a8>"
      ]
     },
     "execution_count": 12,
     "metadata": {},
     "output_type": "execute_result"
    },
    {
     "data": {
      "image/png": "[encoded data removed]",
      "text/plain": [
       "<matplotlib.figure.Figure at 0xbf706d0b00>"
      ]
     },
     "metadata": {},
     "output_type": "display_data"
    }
   ],
   "source": [
    "# plot TotalChildren counts\n",
    "sns.countplot(x='TotalChildren', data=data, color='g')"
   ]
  },
  {
   "cell_type": "code",
   "execution_count": 13,
   "metadata": {
    "collapsed": false,
    "deletable": true,
    "editable": true
   },
   "outputs": [
    {
     "data": {
      "text/plain": [
       "<matplotlib.axes._subplots.AxesSubplot at 0xbf70987da0>"
      ]
     },
     "execution_count": 13,
     "metadata": {},
     "output_type": "execute_result"
    },
    {
     "data": {
      "image/png": "[encoded data removed]",
      "text/plain": [
       "<matplotlib.figure.Figure at 0xbf70ab8908>"
      ]
     },
     "metadata": {},
     "output_type": "display_data"
    }
   ],
   "source": [
    "# plot NumberCarsOwned counts\n",
    "sns.countplot(x='NumberCarsOwned', data=data, color='c')"
   ]
  },
  {
   "cell_type": "code",
   "execution_count": 14,
   "metadata": {
    "collapsed": false,
    "deletable": true,
    "editable": true
   },
   "outputs": [
    {
     "data": {
      "text/plain": [
       "<matplotlib.axes._subplots.AxesSubplot at 0xbf70ad7f98>"
      ]
     },
     "execution_count": 14,
     "metadata": {},
     "output_type": "execute_result"
    },
    {
     "data": {
      "image/png": "[encoded data removed]",
      "text/plain": [
       "<matplotlib.figure.Figure at 0xbf70b8a5f8>"
      ]
     },
     "metadata": {},
     "output_type": "display_data"
    }
   ],
   "source": [
    "# plot NumberChildrenAtHome counts\n",
    "sns.countplot(x='NumberChildrenAtHome', data=data, color='y')"
   ]
  },
  {
   "cell_type": "code",
   "execution_count": 15,
   "metadata": {
    "collapsed": false,
    "deletable": true,
    "editable": true
   },
   "outputs": [
    {
     "data": {
      "image/png": "[encoded data removed]",
      "text/plain": [
       "<matplotlib.figure.Figure at 0xbf709fdba8>"
      ]
     },
     "metadata": {},
     "output_type": "display_data"
    }
   ],
   "source": [
    "# plot Buyers counts by some categorical variables\n",
    "fig, axes = plt.subplots(nrows=2, ncols=2, figsize=(12, 9))\n",
    "pd.crosstab(data.Country, data.Buyer).plot(kind='bar', ax=axes[0,0])\n",
    "pd.crosstab(data.CommuteDistance, data.Buyer).plot(kind='bar', ax=axes[0,1])\n",
    "pd.crosstab(data.Education, data.Buyer).plot(kind='bar', ax=axes[1,0])\n",
    "pd.crosstab(data.Occupation, data.Buyer).plot(kind='bar', ax=axes[1,1])\n",
    "plt.tight_layout();"
   ]
  },
  {
   "cell_type": "code",
   "execution_count": 16,
   "metadata": {
    "collapsed": false,
    "deletable": true,
    "editable": true
   },
   "outputs": [
    {
     "data": {
      "text/html": [
       "<div>\n",
       "<table border=\"1\" class=\"dataframe\">\n",
       "  <thead>\n",
       "    <tr style=\"text-align: right;\">\n",
       "      <th></th>\n",
       "      <th>YearlyIncome</th>\n",
       "      <th>TotalChildren</th>\n",
       "      <th>FirstPurchaseYear</th>\n",
       "      <th>NumberChildrenAtHome</th>\n",
       "      <th>HouseOwnerFlag</th>\n",
       "      <th>NumberCarsOwned</th>\n",
       "      <th>Age</th>\n",
       "      <th>MaritalStatus_S</th>\n",
       "      <th>Gender_M</th>\n",
       "      <th>Education_Graduate Degree</th>\n",
       "      <th>...</th>\n",
       "      <th>CommuteDistance_1-2 Miles</th>\n",
       "      <th>CommuteDistance_10+ Miles</th>\n",
       "      <th>CommuteDistance_2-5 Miles</th>\n",
       "      <th>CommuteDistance_5-10 Miles</th>\n",
       "      <th>Country_CA</th>\n",
       "      <th>Country_DE</th>\n",
       "      <th>Country_FR</th>\n",
       "      <th>Country_GB</th>\n",
       "      <th>Country_US</th>\n",
       "      <th>Buyer_1</th>\n",
       "    </tr>\n",
       "  </thead>\n",
       "  <tbody>\n",
       "    <tr>\n",
       "      <th>0</th>\n",
       "      <td>90000.0</td>\n",
       "      <td>2</td>\n",
       "      <td>2011</td>\n",
       "      <td>0</td>\n",
       "      <td>1</td>\n",
       "      <td>0</td>\n",
       "      <td>46</td>\n",
       "      <td>0</td>\n",
       "      <td>1</td>\n",
       "      <td>0</td>\n",
       "      <td>...</td>\n",
       "      <td>1</td>\n",
       "      <td>0</td>\n",
       "      <td>0</td>\n",
       "      <td>0</td>\n",
       "      <td>0</td>\n",
       "      <td>0</td>\n",
       "      <td>0</td>\n",
       "      <td>0</td>\n",
       "      <td>0</td>\n",
       "      <td>1</td>\n",
       "    </tr>\n",
       "    <tr>\n",
       "      <th>1</th>\n",
       "      <td>60000.0</td>\n",
       "      <td>3</td>\n",
       "      <td>2011</td>\n",
       "      <td>3</td>\n",
       "      <td>0</td>\n",
       "      <td>1</td>\n",
       "      <td>42</td>\n",
       "      <td>1</td>\n",
       "      <td>1</td>\n",
       "      <td>0</td>\n",
       "      <td>...</td>\n",
       "      <td>0</td>\n",
       "      <td>0</td>\n",
       "      <td>0</td>\n",
       "      <td>0</td>\n",
       "      <td>0</td>\n",
       "      <td>0</td>\n",
       "      <td>0</td>\n",
       "      <td>0</td>\n",
       "      <td>0</td>\n",
       "      <td>1</td>\n",
       "    </tr>\n",
       "    <tr>\n",
       "      <th>2</th>\n",
       "      <td>60000.0</td>\n",
       "      <td>3</td>\n",
       "      <td>2011</td>\n",
       "      <td>3</td>\n",
       "      <td>1</td>\n",
       "      <td>1</td>\n",
       "      <td>47</td>\n",
       "      <td>0</td>\n",
       "      <td>1</td>\n",
       "      <td>0</td>\n",
       "      <td>...</td>\n",
       "      <td>0</td>\n",
       "      <td>0</td>\n",
       "      <td>1</td>\n",
       "      <td>0</td>\n",
       "      <td>0</td>\n",
       "      <td>0</td>\n",
       "      <td>0</td>\n",
       "      <td>0</td>\n",
       "      <td>0</td>\n",
       "      <td>1</td>\n",
       "    </tr>\n",
       "    <tr>\n",
       "      <th>3</th>\n",
       "      <td>70000.0</td>\n",
       "      <td>0</td>\n",
       "      <td>2010</td>\n",
       "      <td>0</td>\n",
       "      <td>0</td>\n",
       "      <td>1</td>\n",
       "      <td>45</td>\n",
       "      <td>1</td>\n",
       "      <td>0</td>\n",
       "      <td>0</td>\n",
       "      <td>...</td>\n",
       "      <td>0</td>\n",
       "      <td>0</td>\n",
       "      <td>0</td>\n",
       "      <td>1</td>\n",
       "      <td>0</td>\n",
       "      <td>0</td>\n",
       "      <td>0</td>\n",
       "      <td>0</td>\n",
       "      <td>0</td>\n",
       "      <td>1</td>\n",
       "    </tr>\n",
       "    <tr>\n",
       "      <th>4</th>\n",
       "      <td>80000.0</td>\n",
       "      <td>5</td>\n",
       "      <td>2011</td>\n",
       "      <td>5</td>\n",
       "      <td>1</td>\n",
       "      <td>4</td>\n",
       "      <td>39</td>\n",
       "      <td>1</td>\n",
       "      <td>0</td>\n",
       "      <td>0</td>\n",
       "      <td>...</td>\n",
       "      <td>1</td>\n",
       "      <td>0</td>\n",
       "      <td>0</td>\n",
       "      <td>0</td>\n",
       "      <td>0</td>\n",
       "      <td>0</td>\n",
       "      <td>0</td>\n",
       "      <td>0</td>\n",
       "      <td>0</td>\n",
       "      <td>1</td>\n",
       "    </tr>\n",
       "  </tbody>\n",
       "</table>\n",
       "<p>5 rows × 27 columns</p>\n",
       "</div>"
      ],
      "text/plain": [
       "   YearlyIncome  TotalChildren  FirstPurchaseYear  NumberChildrenAtHome  \\\n",
       "0       90000.0              2               2011                     0   \n",
       "1       60000.0              3               2011                     3   \n",
       "2       60000.0              3               2011                     3   \n",
       "3       70000.0              0               2010                     0   \n",
       "4       80000.0              5               2011                     5   \n",
       "\n",
       "   HouseOwnerFlag  NumberCarsOwned  Age  MaritalStatus_S  Gender_M  \\\n",
       "0               1                0   46                0         1   \n",
       "1               0                1   42                1         1   \n",
       "2               1                1   47                0         1   \n",
       "3               0                1   45                1         0   \n",
       "4               1                4   39                1         0   \n",
       "\n",
       "   Education_Graduate Degree   ...     CommuteDistance_1-2 Miles  \\\n",
       "0                          0   ...                             1   \n",
       "1                          0   ...                             0   \n",
       "2                          0   ...                             0   \n",
       "3                          0   ...                             0   \n",
       "4                          0   ...                             1   \n",
       "\n",
       "   CommuteDistance_10+ Miles  CommuteDistance_2-5 Miles  \\\n",
       "0                          0                          0   \n",
       "1                          0                          0   \n",
       "2                          0                          1   \n",
       "3                          0                          0   \n",
       "4                          0                          0   \n",
       "\n",
       "   CommuteDistance_5-10 Miles  Country_CA  Country_DE  Country_FR  Country_GB  \\\n",
       "0                           0           0           0           0           0   \n",
       "1                           0           0           0           0           0   \n",
       "2                           0           0           0           0           0   \n",
       "3                           1           0           0           0           0   \n",
       "4                           0           0           0           0           0   \n",
       "\n",
       "   Country_US  Buyer_1  \n",
       "0           0        1  \n",
       "1           0        1  \n",
       "2           0        1  \n",
       "3           0        1  \n",
       "4           0        1  \n",
       "\n",
       "[5 rows x 27 columns]"
      ]
     },
     "execution_count": 16,
     "metadata": {},
     "output_type": "execute_result"
    }
   ],
   "source": [
    "# create dummy variables for correlation matrix\n",
    "for cat in cat_cols:\n",
    "    cat_list = 'var_'+cat\n",
    "    cat_list = pd.get_dummies(data[cat], prefix=cat, drop_first='True')\n",
    "    data_dummy=data.join(cat_list)\n",
    "    data=data_dummy\n",
    "\n",
    "keep_cols=[x for x in data.columns.tolist() if x not in cat_cols]\n",
    "data=data[keep_cols]\n",
    "data.head()"
   ]
  },
  {
   "cell_type": "code",
   "execution_count": 17,
   "metadata": {
    "collapsed": false,
    "deletable": true,
    "editable": true
   },
   "outputs": [
    {
     "data": {
      "image/png": "[encoded data removed]",
      "text/plain": [
       "<matplotlib.figure.Figure at 0xbf70b9a400>"
      ]
     },
     "metadata": {},
     "output_type": "display_data"
    }
   ],
   "source": [
    "#correlation matrix\n",
    "corrmat = data.corr()\n",
    "f, ax = plt.subplots(figsize=(12, 9))\n",
    "sns.heatmap(corrmat, square=True);"
   ]
  }
 ],
 "metadata": {
  "kernelspec": {
   "display_name": "Python 3",
   "language": "python",
   "name": "python3"
  },
  "language_info": {
   "codemirror_mode": {
    "name": "ipython",
    "version": 3
   },
   "file_extension": ".py",
   "mimetype": "text/x-python",
   "name": "python",
   "nbconvert_exporter": "python",
   "pygments_lexer": "ipython3",
   "version": "3.6.0"
  }
 },
 "nbformat": 4,
 "nbformat_minor": 2
}
